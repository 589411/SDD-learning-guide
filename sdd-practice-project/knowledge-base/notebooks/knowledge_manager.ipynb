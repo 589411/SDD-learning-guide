{
 "cells": [
  {
   "cell_type": "markdown",
   "metadata": {},
   "source": [
    "# 📚 個人知識庫管理器 - Google Colab 教學\n",
    "\n",
    "## 📋 學習目標\n",
    "\n",
    "1. 學習完整的 CRUD 操作\n",
    "2. 實作標籤系統和搜尋功能\n",
    "3. 掌握資料持久化\n",
    "4. 體驗系統架構設計"
   ]
  },
  {
   "cell_type": "code",
   "execution_count": null,
   "metadata": {},
   "outputs": [],
   "source": [
    "# 步驟 1：安裝依賴\n",
    "!pip install pytest -q\n",
    "print(\"✅ 依賴安裝完成\")"
   ]
  },
  {
   "cell_type": "code",
   "execution_count": null,
   "metadata": {},
   "outputs": [],
   "source": [
    "# 步驟 2：實作知識庫類別\n",
    "import json\n",
    "from datetime import datetime\n",
    "from pathlib import Path\n",
    "\n",
    "class KnowledgeBase:\n",
    "    def __init__(self, db_path=\"kb.json\"):\n",
    "        self.db_path = Path(db_path)\n",
    "        self.entries = self._load_database()\n",
    "    \n",
    "    def _load_database(self):\n",
    "        if self.db_path.exists():\n",
    "            with open(self.db_path, 'r', encoding='utf-8') as f:\n",
    "                return json.load(f)\n",
    "        return {}\n",
    "    \n",
    "    def _save_database(self):\n",
    "        with open(self.db_path, 'w', encoding='utf-8') as f:\n",
    "            json.dump(self.entries, f, ensure_ascii=False, indent=2)\n",
    "    \n",
    "    def create(self, title, content, tags):\n",
    "        entry_id = f\"kb_{datetime.now().strftime('%Y%m%d_%H%M%S')}_{len(self.entries)+1:03d}\"\n",
    "        entry = {\n",
    "            \"id\": entry_id,\n",
    "            \"title\": title,\n",
    "            \"content\": content,\n",
    "            \"tags\": list(set([tag.lower() for tag in tags])),\n",
    "            \"created_at\": datetime.now().isoformat(),\n",
    "            \"updated_at\": datetime.now().isoformat()\n",
    "        }\n",
    "        self.entries[entry_id] = entry\n",
    "        self._save_database()\n",
    "        return entry_id\n",
    "    \n",
    "    def read(self, entry_id):\n",
    "        return self.entries.get(entry_id)\n",
    "    \n",
    "    def search(self, keyword):\n",
    "        keyword_lower = keyword.lower()\n",
    "        return [e for e in self.entries.values() \n",
    "                if keyword_lower in e[\"title\"].lower() or keyword_lower in e[\"content\"].lower()]\n",
    "\n",
    "print(\"✅ KnowledgeBase 類別定義完成\")"
   ]
  },
  {
   "cell_type": "code",
   "execution_count": null,
   "metadata": {},
   "outputs": [],
   "source": [
    "# 步驟 3：測試知識庫\n",
    "kb = KnowledgeBase()\n",
    "\n",
    "# 新增條目\n",
    "id1 = kb.create(\"SDD 概念\", \"規格驅動開發\", [\"SDD\", \"方法論\"])\n",
    "id2 = kb.create(\"AI 工具\", \"Cursor, Windsurf\", [\"AI\", \"工具\"])\n",
    "\n",
    "print(f\"✅ 已建立 {len(kb.entries)} 個條目\")\n",
    "print(json.dumps(kb.entries, ensure_ascii=False, indent=2))"
   ]
  },
  {
   "cell_type": "markdown",
   "metadata": {},
   "source": [
    "## 🎓 完整實作請參考規格文件\n",
    "\n",
    "更多資源：\n",
    "- [完整規格](../specs/knowledge-base.spec.md)\n",
    "- [專案 README](../README.md)"
   ]
  }
 ],
 "metadata": {
  "kernelspec": {
   "display_name": "Python 3",
   "language": "python",
   "name": "python3"
  }
 },
 "nbformat": 4,
 "nbformat_minor": 4
}
